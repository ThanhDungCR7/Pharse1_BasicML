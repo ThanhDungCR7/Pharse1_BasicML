{
 "cells": [
  {
   "cell_type": "markdown",
   "id": "1a144475",
   "metadata": {},
   "source": [
    "## Tensorflow"
   ]
  },
  {
   "cell_type": "markdown",
   "id": "186ec07e",
   "metadata": {},
   "source": [
    "### Cơ bản"
   ]
  },
  {
   "cell_type": "code",
   "execution_count": 1,
   "id": "70315796",
   "metadata": {},
   "outputs": [
    {
     "name": "stdout",
     "output_type": "stream",
     "text": [
      "WARNING:tensorflow:From C:\\Users\\ADMIN\\anaconda3\\lib\\site-packages\\tensorflow\\python\\compat\\v2_compat.py:107: disable_resource_variables (from tensorflow.python.ops.variable_scope) is deprecated and will be removed in a future version.\n",
      "Instructions for updating:\n",
      "non-resource variables are not supported in the long term\n"
     ]
    }
   ],
   "source": [
    "import tensorflow.compat.v1 as tf\n",
    "tf.disable_v2_behavior()\n",
    "import numpy as np"
   ]
  },
  {
   "cell_type": "markdown",
   "id": "3da41a95",
   "metadata": {},
   "source": [
    "#### constant"
   ]
  },
  {
   "cell_type": "code",
   "execution_count": 2,
   "id": "e96fae73",
   "metadata": {},
   "outputs": [
    {
     "name": "stdout",
     "output_type": "stream",
     "text": [
      "[[1. 2. 3.]\n",
      " [4. 5. 6.]\n",
      " [7. 8. 9.]]\n",
      ".....................................................................\n",
      "Tensor(\"Const:0\", shape=(3, 3), dtype=float32)\n",
      ".....................................................................\n",
      "(3, 3)\n",
      ".....................................................................\n",
      "<dtype: 'float32'>\n",
      ".....................................................................\n",
      "Tensor(\"Const_1:0\", shape=(), dtype=int32)\n"
     ]
    }
   ],
   "source": [
    "x = tf.constant([[1., 2., 3.],\n",
    "                 [4., 5., 6.],\n",
    "                 [7., 8., 9]])\n",
    "ses = tf.Session()\n",
    "print(ses.run(x))\n",
    "print(\".....................................................................\")\n",
    "print(x)\n",
    "print(\".....................................................................\")\n",
    "print(x.shape)\n",
    "print(\".....................................................................\")\n",
    "print(x.dtype)\n",
    "print(\".....................................................................\")\n",
    "y = tf.constant(1)\n",
    "print(y)"
   ]
  },
  {
   "cell_type": "code",
   "execution_count": 3,
   "id": "f3b532d0",
   "metadata": {},
   "outputs": [
    {
     "name": "stdout",
     "output_type": "stream",
     "text": [
      "[[ 2.  4.  6.]\n",
      " [ 8. 10. 12.]\n",
      " [14. 16. 18.]]\n",
      ".....................................................................\n",
      "5\n",
      ".....................................................................\n",
      "[[ 14.  32.  50.]\n",
      " [ 32.  77. 122.]\n",
      " [ 50. 122. 194.]]\n",
      ".....................................................................\n",
      "[[1. 2. 3.]\n",
      " [4. 5. 6.]\n",
      " [7. 8. 9.]\n",
      " [1. 2. 3.]\n",
      " [4. 5. 6.]\n",
      " [7. 8. 9.]\n",
      " [1. 2. 3.]\n",
      " [4. 5. 6.]\n",
      " [7. 8. 9.]]\n",
      ".....................................................................\n",
      "[[0.09003057 0.24472848 0.66524094]\n",
      " [0.09003057 0.24472848 0.66524094]\n",
      " [0.09003057 0.24472848 0.66524094]]\n",
      ".....................................................................\n",
      "45.0\n"
     ]
    }
   ],
   "source": [
    "print(ses.run(x+x))\n",
    "print(\".....................................................................\")\n",
    "print(ses.run(5 * y))\n",
    "print(\".....................................................................\")\n",
    "print(ses.run(x @ tf.transpose(x)))\n",
    "print(\".....................................................................\")\n",
    "print(ses.run(tf.concat([x, x, x], axis=0)))\n",
    "print(\".....................................................................\")\n",
    "print(ses.run(tf.nn.softmax(x, axis=-1))) #hàm softmax\n",
    "print(\".....................................................................\")\n",
    "print(ses.run(tf.reduce_sum(x))) #tổng các phần tử"
   ]
  },
  {
   "cell_type": "markdown",
   "id": "da11056c",
   "metadata": {},
   "source": [
    "#### placeholder ~ use for input"
   ]
  },
  {
   "cell_type": "code",
   "execution_count": 4,
   "id": "d382c02a",
   "metadata": {},
   "outputs": [],
   "source": [
    "p1 = tf.placeholder(dtype = tf.float32)\n",
    "p2 = tf.placeholder(dtype = tf.float32)"
   ]
  },
  {
   "cell_type": "code",
   "execution_count": 5,
   "id": "6a6dd9a4",
   "metadata": {},
   "outputs": [],
   "source": [
    "# Asign \n",
    "\n",
    "o_add = p1 + p2\n",
    "o_mul = p1 * p2\n"
   ]
  },
  {
   "cell_type": "code",
   "execution_count": 6,
   "id": "1eda5e60",
   "metadata": {},
   "outputs": [
    {
     "name": "stdout",
     "output_type": "stream",
     "text": [
      "Tensor(\"add_1:0\", dtype=float32)\n"
     ]
    }
   ],
   "source": [
    "print(o_add)"
   ]
  },
  {
   "cell_type": "code",
   "execution_count": 7,
   "id": "67955d80",
   "metadata": {},
   "outputs": [
    {
     "data": {
      "text/plain": [
       "17.0"
      ]
     },
     "execution_count": 7,
     "metadata": {},
     "output_type": "execute_result"
    }
   ],
   "source": [
    "d_values = {\n",
    "    p1: 7,\n",
    "    p2: 10\n",
    "}\n",
    "see = tf.Session()\n",
    "see.run(o_add,feed_dict = d_values)"
   ]
  },
  {
   "cell_type": "code",
   "execution_count": 8,
   "id": "18ce6965",
   "metadata": {},
   "outputs": [
    {
     "data": {
      "text/plain": [
       "[17.0, 70.0]"
      ]
     },
     "execution_count": 8,
     "metadata": {},
     "output_type": "execute_result"
    }
   ],
   "source": [
    "see.run([o_add,o_mul], feed_dict = d_values)"
   ]
  },
  {
   "cell_type": "markdown",
   "id": "8009f71d",
   "metadata": {},
   "source": [
    "#### variables"
   ]
  },
  {
   "cell_type": "code",
   "execution_count": 9,
   "id": "8f88dfe2",
   "metadata": {},
   "outputs": [],
   "source": [
    "var_1 = tf.Variable(name='var_1',initial_value = 7)\n",
    "var_2 = tf.Variable(name='var_2',initial_value = 10)"
   ]
  },
  {
   "cell_type": "code",
   "execution_count": 10,
   "id": "50b5b61a",
   "metadata": {},
   "outputs": [],
   "source": [
    "see.run(var_1.initializer)"
   ]
  },
  {
   "cell_type": "code",
   "execution_count": 11,
   "id": "bd83bd09",
   "metadata": {},
   "outputs": [
    {
     "data": {
      "text/plain": [
       "7"
      ]
     },
     "execution_count": 11,
     "metadata": {},
     "output_type": "execute_result"
    }
   ],
   "source": [
    "see.run(var_1)"
   ]
  },
  {
   "cell_type": "code",
   "execution_count": 12,
   "id": "35f93689",
   "metadata": {},
   "outputs": [],
   "source": [
    "tf.global_variables_initializer().run(session = see)"
   ]
  },
  {
   "cell_type": "code",
   "execution_count": 13,
   "id": "6ed57da5",
   "metadata": {},
   "outputs": [
    {
     "data": {
      "text/plain": [
       "10"
      ]
     },
     "execution_count": 13,
     "metadata": {},
     "output_type": "execute_result"
    }
   ],
   "source": [
    "see.run(var_2)"
   ]
  }
 ],
 "metadata": {
  "kernelspec": {
   "display_name": "Python 3 (ipykernel)",
   "language": "python",
   "name": "python3"
  },
  "language_info": {
   "codemirror_mode": {
    "name": "ipython",
    "version": 3
   },
   "file_extension": ".py",
   "mimetype": "text/x-python",
   "name": "python",
   "nbconvert_exporter": "python",
   "pygments_lexer": "ipython3",
   "version": "3.9.7"
  }
 },
 "nbformat": 4,
 "nbformat_minor": 5
}
